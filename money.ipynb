{
 "cells": [
  {
   "cell_type": "markdown",
   "id": "000ea9fd",
   "metadata": {},
   "source": [
    "# 11月"
   ]
  },
  {
   "cell_type": "code",
   "execution_count": null,
   "id": "88c73179",
   "metadata": {},
   "outputs": [],
   "source": [
    "# 11.03\n",
    "wechat=78.35\n",
    "zfb=303.09\n",
    "sh=9742.85\n",
    "zggs=586.93\n",
    "\n",
    "jd=-252.66*3\n",
    "\n",
    "\n",
    "total=wechat+zfb+sh+zggs+jd\n",
    "print(total)\n",
    "diff=total-7856.86\n",
    "print(diff)"
   ]
  },
  {
   "cell_type": "code",
   "execution_count": null,
   "id": "8a135194",
   "metadata": {},
   "outputs": [],
   "source": [
    "# disk remain\n",
    "diskRemain=230-62+150-53\n",
    "print(diskRemain)\n",
    "\n",
    "diskUsed=230+150-diskRemain\n",
    "print(diskUsed)"
   ]
  },
  {
   "cell_type": "markdown",
   "id": "0886ede7",
   "metadata": {},
   "source": [
    "# 12月"
   ]
  },
  {
   "cell_type": "code",
   "execution_count": null,
   "id": "d2f07b53",
   "metadata": {},
   "outputs": [],
   "source": [
    "# 12.10预估的结余情况，只估计了吃饭的情况\n",
    "rent=0\n",
    "food=-1500\n",
    "salary=2400+1700\n",
    "remain=rent+food+salary\n",
    "print(\"remain=\",remain)\n",
    "\n",
    "total=total+rent+food+salary\n",
    "print(\"total =\",total)"
   ]
  },
  {
   "cell_type": "code",
   "execution_count": null,
   "id": "fe73e1b9",
   "metadata": {},
   "outputs": [],
   "source": [
    "# 预计年底可以存的钱\n",
    "food=-1500\n",
    "she=-1000 # house and 12.12\n",
    "train=-1000 # beijing -> shanghai -> chengdu\n",
    "salary=1700+2000 # shanghaiTech & Jisuansuo\n",
    "teacher=9000\n",
    "total=total+food+she+train+salary+teacher\n",
    "print(\"year estimate= \",total)"
   ]
  },
  {
   "cell_type": "markdown",
   "id": "6a57c560",
   "metadata": {},
   "source": [
    "# 1月"
   ]
  },
  {
   "cell_type": "code",
   "execution_count": null,
   "id": "de76f9f1",
   "metadata": {},
   "outputs": [],
   "source": [
    "# 1.10预估的结余情况\n",
    "rent=-3000 # 交三个月的房租\n",
    "remain=rent+food+salary\n",
    "print(\"remain=\",remain)\n",
    "\n",
    "total=total+rent+food+salary\n",
    "print(\"total =\",total)"
   ]
  },
  {
   "cell_type": "markdown",
   "id": "a765d5b4",
   "metadata": {},
   "source": [
    "# Estimate for new Mac\n",
    "> need 1300 for transferring to Mac"
   ]
  },
  {
   "cell_type": "code",
   "execution_count": null,
   "id": "e6993ed8",
   "metadata": {},
   "outputs": [],
   "source": [
    "total=11250\n",
    "spending=-1300\n",
    "\n",
    "remain=total+spending\n",
    "\n",
    "print(\"remain= \",remain)"
   ]
  },
  {
   "cell_type": "code",
   "execution_count": null,
   "id": "bb7294cf",
   "metadata": {},
   "outputs": [],
   "source": []
  }
 ],
 "metadata": {
  "kernelspec": {
   "display_name": "learn",
   "language": "python",
   "name": "python3"
  },
  "language_info": {
   "codemirror_mode": {
    "name": "ipython",
    "version": 3
   },
   "file_extension": ".py",
   "mimetype": "text/x-python",
   "name": "python",
   "nbconvert_exporter": "python",
   "pygments_lexer": "ipython3",
   "version": "3.10.8"
  },
  "vscode": {
   "interpreter": {
    "hash": "6721c609b210ed936b63384e146d02115ca6480478014c391d0dd642f7e886b1"
   }
  }
 },
 "nbformat": 4,
 "nbformat_minor": 5
}
