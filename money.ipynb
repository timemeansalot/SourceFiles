{
 "cells": [
  {
   "cell_type": "markdown",
   "id": "6f6ab253",
   "metadata": {},
   "source": [
    "# 2023.04.24 Total Money"
   ]
  },
  {
   "cell_type": "code",
   "execution_count": 1,
   "id": "04901159",
   "metadata": {},
   "outputs": [
    {
     "data": {
      "text/plain": [
       "-2175.459999999999"
      ]
     },
     "execution_count": 1,
     "metadata": {},
     "output_type": "execute_result"
    }
   ],
   "source": [
    "debt=-(15000-12824.54)\n",
    "debt"
   ]
  },
  {
   "cell_type": "code",
   "execution_count": 2,
   "id": "d1f44948",
   "metadata": {},
   "outputs": [],
   "source": [
    "wechat=7.74+0.9"
   ]
  },
  {
   "cell_type": "code",
   "execution_count": 3,
   "id": "110b804d",
   "metadata": {},
   "outputs": [],
   "source": [
    "shTech=523.77"
   ]
  },
  {
   "cell_type": "code",
   "execution_count": 4,
   "id": "437b2a8e",
   "metadata": {},
   "outputs": [
    {
     "data": {
      "text/plain": [
       "-1643.0499999999993"
      ]
     },
     "execution_count": 4,
     "metadata": {},
     "output_type": "execute_result"
    }
   ],
   "source": [
    "cash=shTech+wechat+debt\n",
    "cash"
   ]
  },
  {
   "cell_type": "code",
   "execution_count": 7,
   "id": "f2f87a54",
   "metadata": {},
   "outputs": [],
   "source": [
    "invest=18971.12"
   ]
  },
  {
   "cell_type": "markdown",
   "id": "6b0c737c",
   "metadata": {},
   "source": [
    "**到4月24号为止所有的资产**"
   ]
  },
  {
   "cell_type": "code",
   "execution_count": 8,
   "id": "56962925",
   "metadata": {},
   "outputs": [
    {
     "data": {
      "text/plain": [
       "17328.07"
      ]
     },
     "execution_count": 8,
     "metadata": {},
     "output_type": "execute_result"
    }
   ],
   "source": [
    "total=invest+cash\n",
    "total"
   ]
  }
 ],
 "metadata": {
  "kernelspec": {
   "display_name": "learn",
   "language": "python",
   "name": "python3"
  },
  "language_info": {
   "codemirror_mode": {
    "name": "ipython",
    "version": 3
   },
   "file_extension": ".py",
   "mimetype": "text/x-python",
   "name": "python",
   "nbconvert_exporter": "python",
   "pygments_lexer": "ipython3",
   "version": "3.10.8"
  },
  "vscode": {
   "interpreter": {
    "hash": "6721c609b210ed936b63384e146d02115ca6480478014c391d0dd642f7e886b1"
   }
  }
 },
 "nbformat": 4,
 "nbformat_minor": 5
}
