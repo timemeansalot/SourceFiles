{
 "cells": [
  {
   "cell_type": "markdown",
   "id": "000ea9fd",
   "metadata": {},
   "source": [
    "# 11月"
   ]
  },
  {
   "cell_type": "code",
   "execution_count": 1,
   "id": "88c73179",
   "metadata": {},
   "outputs": [
    {
     "name": "stdout",
     "output_type": "stream",
     "text": [
      "9953.240000000002\n",
      "2096.380000000002\n"
     ]
    }
   ],
   "source": [
    "# 11.03\n",
    "wechat=78.35\n",
    "zfb=303.09\n",
    "sh=9742.85\n",
    "zggs=586.93\n",
    "\n",
    "jd=-252.66*3\n",
    "\n",
    "total=wechat+zfb+sh+zggs+jd\n",
    "print(total)\n",
    "diff=total-7856.86\n",
    "print(diff)"
   ]
  },
  {
   "cell_type": "markdown",
   "id": "0886ede7",
   "metadata": {},
   "source": [
    "# 12月"
   ]
  },
  {
   "cell_type": "code",
   "execution_count": 3,
   "id": "d2f07b53",
   "metadata": {},
   "outputs": [
    {
     "name": "stdout",
     "output_type": "stream",
     "text": [
      "remain= 2600\n",
      "total = 12553.240000000002\n"
     ]
    }
   ],
   "source": [
    "# 12.10预估的结余情况，只估计了吃饭的情况\n",
    "rent=0\n",
    "food=-1500\n",
    "salary=2400+1700\n",
    "remain=rent+food+salary\n",
    "print(\"remain=\",remain)\n",
    "\n",
    "total=total+rent+food+salary\n",
    "print(\"total =\",total)"
   ]
  },
  {
   "cell_type": "code",
   "execution_count": 9,
   "id": "ae7ed923",
   "metadata": {},
   "outputs": [
    {
     "name": "stdout",
     "output_type": "stream",
     "text": [
      "total=  11431\n",
      "diff=  -1122\n",
      "spending=  939\n"
     ]
    }
   ],
   "source": [
    "# 12.04实际的花销结算\n",
    "jd=8700\n",
    "wx=20\n",
    "zfb=267\n",
    "gs=2444\n",
    "\n",
    "total=jd+wx+zfb+gs # 当前余额\n",
    "print(\"total= \",total)\n",
    "\n",
    "diff=total-12553   # 跟下面预估的12.10号结余的差距\n",
    "print(\"diff= \",diff)\n",
    "\n",
    "spend=350+257+332  # 造成差距的原因：没有估算去上海的费用，预计计算所发的工资是2400、实际发的是1962\n",
    "print(\"spending= \",spend)"
   ]
  },
  {
   "cell_type": "code",
   "execution_count": 11,
   "id": "fe73e1b9",
   "metadata": {},
   "outputs": [
    {
     "name": "stdout",
     "output_type": "stream",
     "text": [
      "year estimate=  20831\n"
     ]
    }
   ],
   "source": [
    "# 预计年底可以存的钱\n",
    "food=-1500\n",
    "she=-1000 # house and 12.12\n",
    "train=-1000 # beijing -> shanghai -> chengdu\n",
    "salary=1700+2000 # shanghaiTech & Jisuansuo\n",
    "teacher=9000\n",
    "total=total+food+she+train+salary+teacher\n",
    "print(\"year estimate= \",total)"
   ]
  },
  {
   "cell_type": "markdown",
   "id": "6a57c560",
   "metadata": {},
   "source": [
    "# 1月"
   ]
  },
  {
   "cell_type": "code",
   "execution_count": 4,
   "id": "de76f9f1",
   "metadata": {},
   "outputs": [
    {
     "name": "stdout",
     "output_type": "stream",
     "text": [
      "remain= -400\n",
      "total = 12153.240000000002\n"
     ]
    }
   ],
   "source": [
    "# 1.10预估的结余情况\n",
    "rent=-3000 # 交三个月的房租\n",
    "remain=rent+food+salary\n",
    "print(\"remain=\",remain)\n",
    "\n",
    "total=total+rent+food+salary\n",
    "print(\"total =\",total)"
   ]
  }
 ],
 "metadata": {
  "kernelspec": {
   "display_name": "Python 3.10.6 ('learn')",
   "language": "python",
   "name": "python3"
  },
  "language_info": {
   "codemirror_mode": {
    "name": "ipython",
    "version": 3
   },
   "file_extension": ".py",
   "mimetype": "text/x-python",
   "name": "python",
   "nbconvert_exporter": "python",
   "pygments_lexer": "ipython3",
   "version": "3.10.6"
  },
  "vscode": {
   "interpreter": {
    "hash": "52748e89fb6bdfd4cb8ac4f43fdfeef04f4b2c8844cc6c5ce9d9d6122495dbf8"
   }
  }
 },
 "nbformat": 4,
 "nbformat_minor": 5
}
